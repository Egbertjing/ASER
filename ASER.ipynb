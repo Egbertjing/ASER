{
 "cells": [
  {
   "cell_type": "markdown",
   "metadata": {},
   "source": [
    "# Client APIs for ASER"
   ]
  },
  {
   "cell_type": "markdown",
   "metadata": {},
   "source": [
    "Firstly, install the necessay packages"
   ]
  },
  {
   "cell_type": "code",
   "execution_count": 1,
   "metadata": {},
   "outputs": [
    {
     "name": "stdout",
     "output_type": "stream",
     "text": [
      "Requirement already satisfied: pandas in /home/hjpan/.py3env/lib/python3.6/site-packages (from -r requirements.txt (line 1)) (0.24.2)\n",
      "Requirement already satisfied: numpy in /home/hjpan/.py3env/lib/python3.6/site-packages (from -r requirements.txt (line 2)) (1.16.4)\n",
      "Requirement already satisfied: tqdm in /home/hjpan/.py3env/lib/python3.6/site-packages (from -r requirements.txt (line 3)) (4.31.1)\n",
      "Requirement already satisfied: pytz>=2011k in /home/hjpan/.py3env/lib/python3.6/site-packages (from pandas->-r requirements.txt (line 1)) (2019.1)\n",
      "Requirement already satisfied: python-dateutil>=2.5.0 in /home/hjpan/.py3env/lib/python3.6/site-packages (from pandas->-r requirements.txt (line 1)) (2.8.0)\n",
      "Requirement already satisfied: six>=1.5 in /home/hjpan/.py3env/lib/python3.6/site-packages (from python-dateutil>=2.5.0->pandas->-r requirements.txt (line 1)) (1.12.0)\n",
      "\u001b[33mWARNING: You are using pip version 19.1.1, however version 19.2.3 is available.\n",
      "You should consider upgrading via the 'pip install --upgrade pip' command.\u001b[0m\n"
     ]
    }
   ],
   "source": [
    "!pip install -r requirements.txt "
   ]
  },
  {
   "cell_type": "markdown",
   "metadata": {},
   "source": [
    "Then, install the aser package."
   ]
  },
  {
   "cell_type": "code",
   "execution_count": null,
   "metadata": {},
   "outputs": [],
   "source": [
    "!python setup.py develop"
   ]
  },
  {
   "cell_type": "markdown",
   "metadata": {},
   "source": [
    "Assume we have one aser-server running on port 8000 and 8001"
   ]
  },
  {
   "cell_type": "markdown",
   "metadata": {},
   "source": [
    "We can first start a client"
   ]
  },
  {
   "cell_type": "code",
   "execution_count": 1,
   "metadata": {},
   "outputs": [],
   "source": [
    "from aser.client import ASERClient"
   ]
  },
  {
   "cell_type": "code",
   "execution_count": 2,
   "metadata": {},
   "outputs": [],
   "source": [
    "client = ASERClient(port=8000, port_out=8001)"
   ]
  },
  {
   "cell_type": "markdown",
   "metadata": {},
   "source": [
    "Now we can extract eventualities"
   ]
  },
  {
   "cell_type": "code",
   "execution_count": 3,
   "metadata": {},
   "outputs": [
    {
     "data": {
      "text/plain": [
       "{'sentence': 'I am hungry',\n",
       " 'eventualities': [{'eid': 'c08b06c1b3a3e9ada88dd7034618d0969ae2b244',\n",
       "   'pattern': 's-be-a',\n",
       "   'verbs': 'be',\n",
       "   'frequency': 35220.0,\n",
       "   'skeleton_words': 'i be hungry',\n",
       "   'words': 'i be hungry'}]}"
      ]
     },
     "execution_count": 3,
     "metadata": {},
     "output_type": "execute_result"
    }
   ],
   "source": [
    "client.extract_eventualities(\"I am hungry\")"
   ]
  },
  {
   "cell_type": "code",
   "execution_count": 4,
   "metadata": {},
   "outputs": [
    {
     "data": {
      "text/plain": [
       "[{'eid': 'c08b06c1b3a3e9ada88dd7034618d0969ae2b244',\n",
       "  'pattern': 's-be-a',\n",
       "  'verbs': 'be',\n",
       "  'frequency': 35220.0,\n",
       "  'skeleton_words': 'i be hungry',\n",
       "  'words': 'i be hungry'}]"
      ]
     },
     "execution_count": 4,
     "metadata": {},
     "output_type": "execute_result"
    }
   ],
   "source": [
    "client.extract_eventualities(\"I am hungry\", only_events=True)"
   ]
  },
  {
   "cell_type": "code",
   "execution_count": 5,
   "metadata": {},
   "outputs": [
    {
     "data": {
      "text/plain": [
       "{'sentence': [[[3, 'hungry', 'JJ'], 'nsubj', [1, 'I', 'PRP']],\n",
       "  [[3, 'hungry', 'JJ'], 'cop', [2, 'be', 'VBP']]],\n",
       " 'eventualities': [{'eid': 'c08b06c1b3a3e9ada88dd7034618d0969ae2b244',\n",
       "   'pattern': 's-be-a',\n",
       "   'verbs': 'be',\n",
       "   'frequency': 35220.0,\n",
       "   'skeleton_words': [[1, 'I', 'PRP'], [2, 'be', 'VBP'], [3, 'hungry', 'JJ']],\n",
       "   'words': [[1, 'I', 'PRP'], [2, 'be', 'VBP'], [3, 'hungry', 'JJ']]}]}"
      ]
     },
     "execution_count": 5,
     "metadata": {},
     "output_type": "execute_result"
    }
   ],
   "source": [
    "client.extract_eventualities(\"I am hungry\", ret_type=\"parsed_relations\")"
   ]
  },
  {
   "cell_type": "markdown",
   "metadata": {},
   "source": [
    "And find relations between two events"
   ]
  },
  {
   "cell_type": "code",
   "execution_count": 13,
   "metadata": {},
   "outputs": [],
   "source": [
    "e1 = client.extract_eventualities(\"I am hungry\", only_events=True)[0]\n",
    "e2 = client.extract_eventualities(\"I am in the kitchen.\", only_events=True)[0]"
   ]
  },
  {
   "cell_type": "code",
   "execution_count": 14,
   "metadata": {},
   "outputs": [
    {
     "data": {
      "text/plain": [
       "{'exact_match': {'Co_Occurrence': 6.0}}"
      ]
     },
     "execution_count": 14,
     "metadata": {},
     "output_type": "execute_result"
    }
   ],
   "source": [
    "client.predict_relation(e1, e2)"
   ]
  },
  {
   "cell_type": "markdown",
   "metadata": {},
   "source": [
    "find related events of one event"
   ]
  },
  {
   "cell_type": "code",
   "execution_count": 19,
   "metadata": {
    "scrolled": false
   },
   "outputs": [
    {
     "data": {
      "text/plain": [
       "{'Succession': [{'verbs': 'leave',\n",
       "   'skeleton_words': 'i leave',\n",
       "   'words': 'i leave',\n",
       "   'pattern': 's-v',\n",
       "   'frequency': 52155.0,\n",
       "   'eid': '9cd3818f43bc73a1341ff0185bebc6941a23af31'},\n",
       "  {'verbs': 'be',\n",
       "   'skeleton_words': 'it be midnight',\n",
       "   'words': 'it be midnight',\n",
       "   'pattern': 's-be-a',\n",
       "   'frequency': 2690.0,\n",
       "   'eid': '6a7fd438939225828cab86b48f1c79da45a34bfe'}],\n",
       " 'Result': [{'verbs': 'eat',\n",
       "   'skeleton_words': 'i eat it',\n",
       "   'words': 'i eat it anyway',\n",
       "   'pattern': 's-v-o',\n",
       "   'frequency': 261.0,\n",
       "   'eid': '9c41fa5b58f7f33161e42698340ddbf81c7a2dc7'},\n",
       "  {'verbs': 'eat',\n",
       "   'skeleton_words': 'i eat it',\n",
       "   'words': 'i eat it',\n",
       "   'pattern': 's-v-o',\n",
       "   'frequency': 5038.0,\n",
       "   'eid': '08cecddc324f7607cc1944f8b15692b773d0fd4a'},\n",
       "  {'verbs': 'stop',\n",
       "   'skeleton_words': 'i stop',\n",
       "   'words': 'i stop in',\n",
       "   'pattern': 's-v',\n",
       "   'frequency': 2241.0,\n",
       "   'eid': '1de4267637e2408f0e97b4e2c59210de276ed3b2'},\n",
       "  {'verbs': 'buy',\n",
       "   'skeleton_words': 'i buy sandwich',\n",
       "   'words': 'i buy a breakfast sandwich',\n",
       "   'pattern': 's-v-o',\n",
       "   'frequency': 2.0,\n",
       "   'eid': '52c8962af86de8e2a4472581eed1b26eaf844643'},\n",
       "  {'verbs': 'eat',\n",
       "   'skeleton_words': 'i eat they',\n",
       "   'words': 'i eat they all',\n",
       "   'pattern': 's-v-o',\n",
       "   'frequency': 222.0,\n",
       "   'eid': '04220aa368833470d8cb44201b9c8e39198c76f5'},\n",
       "  {'verbs': 'decide eat',\n",
       "   'skeleton_words': 'i decide eat something',\n",
       "   'words': 'i decide to eat something',\n",
       "   'pattern': 's-v-v-o',\n",
       "   'frequency': 6.0,\n",
       "   'eid': '038009862831fbd988a3660a7fc8de46b20eca23'},\n",
       "  {'verbs': 'start',\n",
       "   'skeleton_words': 'i start',\n",
       "   'words': 'i will start first',\n",
       "   'pattern': 's-v',\n",
       "   'frequency': 31.0,\n",
       "   'eid': 'bcbfe17f26f3fa2791fb9295f58bb0a84ad49e31'},\n",
       "  {'verbs': 'go',\n",
       "   'skeleton_words': 'i go for bite',\n",
       "   'words': 'i go a bite',\n",
       "   'pattern': 's-v-X-o',\n",
       "   'frequency': 12.0,\n",
       "   'eid': '5e81e3ff66e6f35e7881c1fce1a5c80bdc3501d6'},\n",
       "  {'verbs': 'be',\n",
       "   'skeleton_words': 'it be hot',\n",
       "   'words': 'it be hot',\n",
       "   'pattern': 's-be-a',\n",
       "   'frequency': 26288.0,\n",
       "   'eid': 'd02dbf5e8a8e9cabf6c9369f7262ac436e4e688b'},\n",
       "  {'verbs': 'look',\n",
       "   'skeleton_words': 'it look good',\n",
       "   'words': 'it look good',\n",
       "   'pattern': 's-v-a',\n",
       "   'frequency': 11451.0,\n",
       "   'eid': '5371b64ffa5a339690e1a1afb9c28afe3fe4e49c'},\n",
       "  {'verbs': 'be',\n",
       "   'skeleton_words': 'i be hungry',\n",
       "   'words': 'i be hungry',\n",
       "   'pattern': 's-be-a',\n",
       "   'frequency': 35220.0,\n",
       "   'eid': 'c08b06c1b3a3e9ada88dd7034618d0969ae2b244'},\n",
       "  {'verbs': 'be',\n",
       "   'skeleton_words': 'i be tired',\n",
       "   'words': 'i be tired',\n",
       "   'pattern': 's-be-a',\n",
       "   'frequency': 37996.0,\n",
       "   'eid': '4394f2e2056678dd4939e11bb52c4f4a03411fa5'}],\n",
       " 'Condition': [{'verbs': 'be',\n",
       "   'skeleton_words': 'you be',\n",
       "   'words': 'you be not',\n",
       "   'pattern': 's-v',\n",
       "   'frequency': 49937.0,\n",
       "   'eid': 'e5ef61be2d72cb31c014d558859c4e34c14a905a'},\n",
       "  {'verbs': 'be',\n",
       "   'skeleton_words': 'one be',\n",
       "   'words': 'no one else be',\n",
       "   'pattern': 's-v',\n",
       "   'frequency': 92.0,\n",
       "   'eid': '853241b3a7ceb80fecd7df569e585c8c51bc5f2b'}],\n",
       " 'Reason': [{'verbs': 'suck',\n",
       "   'skeleton_words': 'i suck',\n",
       "   'words': 'i suck',\n",
       "   'pattern': 's-v',\n",
       "   'frequency': 4365.0,\n",
       "   'eid': 'ea6c823353b3eec9d3a1daaff474c15834988e0c'}],\n",
       " 'Conjunction': [{'verbs': 'go',\n",
       "   'skeleton_words': 'i go for bite',\n",
       "   'words': 'i go a bite',\n",
       "   'pattern': 's-v-X-o',\n",
       "   'frequency': 12.0,\n",
       "   'eid': '5e81e3ff66e6f35e7881c1fce1a5c80bdc3501d6'},\n",
       "  {'verbs': 'like',\n",
       "   'skeleton_words': 'i like you',\n",
       "   'words': 'i like you',\n",
       "   'pattern': 's-v-o',\n",
       "   'frequency': 30693.0,\n",
       "   'eid': '84e3c3c77b4df6c3b92f9ca46d2f0befedb21f74'},\n",
       "  {'verbs': 'have',\n",
       "   'skeleton_words': 'i have stuff',\n",
       "   'words': 'i have a little moroccan stuff',\n",
       "   'pattern': 's-v-o',\n",
       "   'frequency': 5.0,\n",
       "   'eid': 'd5bcae5d9980089cffb955e7d90401b49e99454f'},\n",
       "  {'verbs': 'remind',\n",
       "   'skeleton_words': 'that remind i of re',\n",
       "   'words': 'that remind i of la pinsonni re',\n",
       "   'pattern': 's-v-o-X-o',\n",
       "   'frequency': 4.0,\n",
       "   'eid': 'fa16498bc645a52ee011a18230d639a533955e59'},\n",
       "  {'verbs': 'please',\n",
       "   'skeleton_words': 'division please kilmartin',\n",
       "   'words': 'cheeseburger brown betty division please welcome steven pitbull kilmartin',\n",
       "   'pattern': 's-v-o',\n",
       "   'frequency': 3.0,\n",
       "   'eid': '7a8a11c7b71fef68eda12b19cc35640beff53dda'},\n",
       "  {'verbs': 'be',\n",
       "   'skeleton_words': 'we be hungry',\n",
       "   'words': 'we be hungry',\n",
       "   'pattern': 's-be-a',\n",
       "   'frequency': 5559.0,\n",
       "   'eid': '2249a19b82a7a63c7e919ef2b1ee9f89212925c1'},\n",
       "  {'verbs': 'be',\n",
       "   'skeleton_words': 'i be hungry',\n",
       "   'words': 'i be hungry',\n",
       "   'pattern': 's-be-a',\n",
       "   'frequency': 35220.0,\n",
       "   'eid': 'c08b06c1b3a3e9ada88dd7034618d0969ae2b244'},\n",
       "  {'verbs': 'be',\n",
       "   'skeleton_words': 'body be pain',\n",
       "   'words': 'my whole body be in pain',\n",
       "   'pattern': 's-be-a',\n",
       "   'frequency': 8.0,\n",
       "   'eid': '639ff9ca879e8028a131c7d09489f38f29ed437e'}],\n",
       " 'Precedence': [{'verbs': 'get',\n",
       "   'skeleton_words': 'you get food',\n",
       "   'words': 'well you should get some food',\n",
       "   'pattern': 's-v-o',\n",
       "   'frequency': 5.0,\n",
       "   'eid': 'f53d916a165d5d674502c5c08c86e493189ff2ad'}],\n",
       " 'Contrast': [{'verbs': 'fit',\n",
       "   'skeleton_words': 'at least dress fit',\n",
       "   'words': 'at least my dress fit',\n",
       "   'pattern': 's-v-X-o',\n",
       "   'frequency': 2.0,\n",
       "   'eid': '73da3f2317abbe331de5e8c541ebfab6d1729208'},\n",
       "  {'verbs': 'have',\n",
       "   'skeleton_words': 'i have money',\n",
       "   'words': 'i have no money',\n",
       "   'pattern': 's-v-o',\n",
       "   'frequency': 4393.0,\n",
       "   'eid': '4d76556737534fac1a5fd176aa1d71859c643281'}]}"
      ]
     },
     "execution_count": 19,
     "metadata": {},
     "output_type": "execute_result"
    }
   ],
   "source": [
    "tmp = client.fetch_related_events(e1)\n",
    "tmp.pop('Co_Occurrence')\n",
    "tmp"
   ]
  },
  {
   "cell_type": "code",
   "execution_count": null,
   "metadata": {},
   "outputs": [],
   "source": []
  }
 ],
 "metadata": {
  "kernelspec": {
   "display_name": "Python 3",
   "language": "python",
   "name": "python3"
  },
  "language_info": {
   "codemirror_mode": {
    "name": "ipython",
    "version": 3
   },
   "file_extension": ".py",
   "mimetype": "text/x-python",
   "name": "python",
   "nbconvert_exporter": "python",
   "pygments_lexer": "ipython3",
   "version": "3.6.1"
  }
 },
 "nbformat": 4,
 "nbformat_minor": 2
}
