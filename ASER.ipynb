{
 "cells": [
  {
   "cell_type": "markdown",
   "metadata": {},
   "source": [
    "# Database APIs for ASER"
   ]
  },
  {
   "cell_type": "markdown",
   "metadata": {},
   "source": [
    "Firstly, install the necessay packages"
   ]
  },
  {
   "cell_type": "code",
   "execution_count": null,
   "metadata": {},
   "outputs": [],
   "source": [
    "!pip install -r requirements.txt "
   ]
  },
  {
   "cell_type": "markdown",
   "metadata": {},
   "source": [
    "Then, install the aser package."
   ]
  },
  {
   "cell_type": "code",
   "execution_count": null,
   "metadata": {},
   "outputs": [],
   "source": [
    "!python setup.py develop"
   ]
  },
  {
   "cell_type": "markdown",
   "metadata": {},
   "source": [
    "Now, we can import the necessay APIs to access the database"
   ]
  },
  {
   "cell_type": "code",
   "execution_count": 12,
   "metadata": {},
   "outputs": [],
   "source": [
    "from aser.database.db_API import KG_Connection\n",
    "from aser.database.db_API import generate_event_id, generate_relation_id, generate_id"
   ]
  },
  {
   "cell_type": "markdown",
   "metadata": {},
   "source": [
    "We provide three different modes: *insert*, *cache*, and *memory*.\n",
    "* *insert* mode supports the insert operation.\n",
    "* *cache* mode load necessary metadata in the memory\n",
    "* *memory* mode loads the whole data in the memory"
   ]
  },
  {
   "cell_type": "markdown",
   "metadata": {},
   "source": [
    "However, it still takes a lot of time, and costs a lot memory due to the large size.\n",
    "We use the *cache* mode to build a DB connection."
   ]
  },
  {
   "cell_type": "code",
   "execution_count": 6,
   "metadata": {},
   "outputs": [],
   "source": [
    "kg_conn = KG_Connection(db_path=r'data/database/core/KG_v0.1.0.db', mode='cache')"
   ]
  },
  {
   "cell_type": "code",
   "execution_count": 7,
   "metadata": {},
   "outputs": [
    {
     "name": "stdout",
     "output_type": "stream",
     "text": [
      "SIZE: eventualities:  27565673 relations: 8834257\n"
     ]
    }
   ],
   "source": [
    "print('SIZE:', 'eventualities: ', len(kg_conn.event_id_set), 'relations:', len(kg_conn.relation_id_set))"
   ]
  },
  {
   "cell_type": "markdown",
   "metadata": {},
   "source": [
    "Noted that eventualites extracted from differnent sentences are identified as the unique one in the database if their words are exactly the same, and relations between two eventualities are identified as the unique one distribution in the database. "
   ]
  },
  {
   "cell_type": "markdown",
   "metadata": {},
   "source": [
    "We can print the attributes of eventualites and relations."
   ]
  },
  {
   "cell_type": "code",
   "execution_count": 8,
   "metadata": {},
   "outputs": [
    {
     "name": "stdout",
     "output_type": "stream",
     "text": [
      "[('_id', 'PRIMARY KEY'), ('verbs', 'TEXT'), ('skeleton_words_clean', 'TEXT'), ('skeleton_words', 'TEXT'), ('words', 'TEXT'), ('pattern', 'TEXT'), ('frequency', 'REAL')]\n"
     ]
    }
   ],
   "source": [
    "print(list(zip(kg_conn.event_columns, kg_conn.event_column_types)))"
   ]
  },
  {
   "cell_type": "code",
   "execution_count": 9,
   "metadata": {},
   "outputs": [
    {
     "name": "stdout",
     "output_type": "stream",
     "text": [
      "[('_id', 'PRIMARY KEY'), ('event1_id', 'TEXT'), ('event2_id', 'TEXT'), ('Precedence', 'REAL'), ('Succession', 'REAL'), ('Synchronous', 'REAL'), ('Reason', 'REAL'), ('Result', 'REAL'), ('Condition', 'REAL'), ('Contrast', 'REAL'), ('Concession', 'REAL'), ('Conjunction', 'REAL'), ('Instantiation', 'REAL'), ('Restatement', 'REAL'), ('ChosenAlternative', 'REAL'), ('Alternative', 'REAL'), ('Exception', 'REAL'), ('Co_Occurrence', 'REAL')]\n"
     ]
    }
   ],
   "source": [
    "print(list(zip(kg_conn.relation_columns, kg_conn.relation_column_types)))"
   ]
  },
  {
   "cell_type": "markdown",
   "metadata": {},
   "source": [
    "We can retrieve eventualities from the database. \n",
    "The extractor is not released at present, we just use simple words to check."
   ]
  },
  {
   "cell_type": "code",
   "execution_count": 13,
   "metadata": {},
   "outputs": [
    {
     "data": {
      "text/plain": [
       "OrderedDict([('_id', 'ce3407c430d7757367196b4222d63bead2cea2d7'),\n",
       "             ('verbs', 'learn'),\n",
       "             ('skeleton_words_clean', 'learn python'),\n",
       "             ('skeleton_words', 'i learn python'),\n",
       "             ('words', 'i learn python'),\n",
       "             ('pattern', 's-v-o'),\n",
       "             ('frequency', 12.0)])"
      ]
     },
     "execution_count": 13,
     "metadata": {},
     "output_type": "execute_result"
    }
   ],
   "source": [
    "kg_conn.get_exact_match_event(generate_id('i learn python'))"
   ]
  },
  {
   "cell_type": "markdown",
   "metadata": {},
   "source": [
    "Relations can also be retrieved."
   ]
  },
  {
   "cell_type": "code",
   "execution_count": 16,
   "metadata": {},
   "outputs": [
    {
     "data": {
      "text/plain": [
       "OrderedDict([('_id', '4ac9d37cb326ad778c13ecf36109a1b411513e4b'),\n",
       "             ('event1_id', '4394f2e2056678dd4939e11bb52c4f4a03411fa5'),\n",
       "             ('event2_id', '1b4d7b0d2131a548c9a607dd0b62fc410172ceac'),\n",
       "             ('Precedence', 0.0),\n",
       "             ('Succession', 0.0),\n",
       "             ('Synchronous', 0.0),\n",
       "             ('Reason', 0.0),\n",
       "             ('Result', 0.9970114231109619),\n",
       "             ('Condition', 0.0),\n",
       "             ('Contrast', 0.0),\n",
       "             ('Concession', 0.0),\n",
       "             ('Conjunction', 0.0),\n",
       "             ('Instantiation', 0.0),\n",
       "             ('Restatement', 0.0),\n",
       "             ('ChosenAlternative', 0.0),\n",
       "             ('Alternative', 0.0),\n",
       "             ('Exception', 0.0),\n",
       "             ('Co_Occurrence', 4.0)])"
      ]
     },
     "execution_count": 16,
     "metadata": {},
     "output_type": "execute_result"
    }
   ],
   "source": [
    "kg_conn.get_exact_match_relation([generate_id('i be tired'), generate_id('i sleep')])"
   ]
  }
 ],
 "metadata": {
  "kernelspec": {
   "display_name": "Python 3",
   "language": "python",
   "name": "python3"
  },
  "language_info": {
   "codemirror_mode": {
    "name": "ipython",
    "version": 3
   },
   "file_extension": ".py",
   "mimetype": "text/x-python",
   "name": "python",
   "nbconvert_exporter": "python",
   "pygments_lexer": "ipython3",
   "version": "3.7.3"
  }
 },
 "nbformat": 4,
 "nbformat_minor": 2
}
