{
 "cells": [
  {
   "cell_type": "code",
   "execution_count": 30,
   "id": "477f5c5e",
   "metadata": {},
   "outputs": [],
   "source": [
    "import os\n",
    "import time\n",
    "import argparse\n",
    "import networkx as nx\n",
    "from tqdm import tqdm\n",
    "from itertools import chain\n",
    "from kg_connection import ASERKGConnection"
   ]
  },
  {
   "cell_type": "code",
   "execution_count": 31,
   "id": "706b3a96",
   "metadata": {},
   "outputs": [],
   "source": [
    "kg_path = \"/home/data/corpora/aser/database/\"\n",
    "networkx_path = \"/home/data/jchengaj/aser_data/\"\n",
    "\n",
    "# kg_fn = 'filter_2.0/2/KG.db'\n",
    "# to_fn = 'test.pickle'\n",
    "# kg_fn = 'filter_2.0/100/KG.db'\n",
    "# to_fn = 'core_100.pickle'\n",
    "# kg_fn = 'filter_2.0/50/KG.db'\n",
    "# to_fn = 'core_50.pickle'\n",
    "# kg_fn = 'filter_2.0/10/KG.db'\n",
    "# to_fn = 'core_10.pickle'\n",
    "kg_fn = 'filter_2.0/5/KG.db'\n",
    "to_fn = 'core_5.pickle'"
   ]
  },
  {
   "cell_type": "code",
   "execution_count": null,
   "id": "1d2200bb",
   "metadata": {},
   "outputs": [],
   "source": [
    "# set input & output paths\n",
    "kg_path = os.path.join(kg_path, kg_fn)\n",
    "networkx_path = os.path.join(networkx_path, to_fn)"
   ]
  },
  {
   "cell_type": "code",
   "execution_count": 32,
   "id": "8c021b57",
   "metadata": {
    "scrolled": false
   },
   "outputs": [
    {
     "name": "stderr",
     "output_type": "stream",
     "text": [
      "13766746it [14:18, 16030.53it/s]\n",
      "30309830it [12:33, 40244.20it/s]\n"
     ]
    }
   ],
   "source": [
    "kg_conn = ASERKGConnection(kg_path,\n",
    "                           mode='memory', \n",
    "                           grain=\"words\", \n",
    "                           load_types=[\"merged_eventuality\", \"words\", \"eventuality\"])"
   ]
  },
  {
   "cell_type": "code",
   "execution_count": 33,
   "id": "81c49324",
   "metadata": {},
   "outputs": [],
   "source": [
    "G_aser = nx.DiGraph()"
   ]
  },
  {
   "cell_type": "code",
   "execution_count": 34,
   "id": "34e9aaa6",
   "metadata": {},
   "outputs": [],
   "source": [
    "# temporarily used for getting event info from ASER connection\n",
    "def get_eventuality_info(kg_conn, strs):\n",
    "    eid_list = kg_conn.merged_eventuality_cache.get(strs, [])\n",
    "    event_list = [kg_conn.eid2eventuality_cache[eid] for eid in eid_list]\n",
    "\n",
    "    info_list = list()\n",
    "    for e in event_list:\n",
    "        info = str(e)\n",
    "        info_list.append(info)\n",
    "    info_list = list(set(info_list))\n",
    "    return info_list"
   ]
  },
  {
   "cell_type": "code",
   "execution_count": null,
   "id": "a10d4cc0",
   "metadata": {},
   "outputs": [
    {
     "name": "stderr",
     "output_type": "stream",
     "text": [
      " 50%|███████████████               | 6055024/12010922 [30:03<27:21, 3628.00it/s]"
     ]
    }
   ],
   "source": [
    "for node in tqdm(kg_conn.merged_eventuality_cache):# the cache is a map from e_words(str) to e_id\n",
    "    G_aser.add_node(node,\n",
    "                    freq=kg_conn.get_event_frequency(node),\n",
    "                    info=get_eventuality_info(kg_conn, node))"
   ]
  },
  {
   "cell_type": "code",
   "execution_count": null,
   "id": "bf6f3e56",
   "metadata": {},
   "outputs": [],
   "source": [
    "# traverse all the nodes, and get it's neighbors\n",
    "gather_relations = lambda key, successor_dict: \\\n",
    "    list(set(chain(*[list(item[1].keys()) for item in successor_dict[key]])))\n",
    "gather_weights = lambda key, successor_dict, rels: \\\n",
    "    dict([(r, sum([item[1].get(r, 0) for item in successor_dict[key]])) for r in rels])"
   ]
  },
  {
   "cell_type": "code",
   "execution_count": null,
   "id": "79719eaa",
   "metadata": {},
   "outputs": [],
   "source": [
    "for node in tqdm(kg_conn.merged_eventuality_cache):\n",
    "    successor_dict = kg_conn.merged_eventuality_relation_cache[\"head_words\"].get(node, {})\n",
    "    selected_tails = [(key, gather_weights(key, successor_dict, gather_relations(key, successor_dict))) \\\n",
    "                      for key, relations in successor_dict.items()]  # tail, relation\n",
    "    for key, rels in selected_tails:\n",
    "        G_aser.add_edge(node, key,\n",
    "                        relations=rels, )"
   ]
  },
  {
   "cell_type": "code",
   "execution_count": null,
   "id": "b401c239",
   "metadata": {},
   "outputs": [],
   "source": [
    "nx.write_gpickle(G_aser, networkx_path)"
   ]
  }
 ],
 "metadata": {
  "kernelspec": {
   "display_name": "Python 3 (ipykernel)",
   "language": "python",
   "name": "python3"
  },
  "language_info": {
   "codemirror_mode": {
    "name": "ipython",
    "version": 3
   },
   "file_extension": ".py",
   "mimetype": "text/x-python",
   "name": "python",
   "nbconvert_exporter": "python",
   "pygments_lexer": "ipython3",
   "version": "3.9.7"
  }
 },
 "nbformat": 4,
 "nbformat_minor": 5
}
