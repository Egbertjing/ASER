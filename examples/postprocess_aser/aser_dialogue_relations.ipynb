{
 "cells": [
  {
   "cell_type": "markdown",
   "id": "6c84aa74",
   "metadata": {},
   "source": [
    "This notebook is for illustrating how to get dialogue relation information in ASER.  \n",
    "\n",
    "First, load dependencies. The \"aser\" package should be installed first (https://github.com/HKUST-KnowComp/ASER)."
   ]
  },
  {
   "cell_type": "code",
   "execution_count": 1,
   "id": "f99d8f72",
   "metadata": {},
   "outputs": [],
   "source": [
    "import os\n",
    "import pickle\n",
    "from aser.extract.parsed_reader import ParsedReader"
   ]
  },
  {
   "cell_type": "code",
   "execution_count": 3,
   "id": "e5a3a586",
   "metadata": {},
   "outputs": [],
   "source": [
    "# filepaths of eid2sid, rid2sid. They can be found in s3://dgl-data/\n",
    "rid2sids_path = '/home/data/corpora/aser/database/filter_2.0/2/rid2sids.pkl'\n",
    "rid2relation_path = 'rid2relation.pkl'\n",
    "# the KG path\n",
    "processed_path = '/home/data/corpora/aser/data'\n",
    "\n",
    "parsed_reader = ParsedReader()"
   ]
  },
  {
   "cell_type": "code",
   "execution_count": 4,
   "id": "970e1470",
   "metadata": {},
   "outputs": [],
   "source": [
    "with open(rid2sids_path, \"rb\") as f:\n",
    "    rid2sids = pickle.load(f)\n",
    "\n",
    "with open(rid2relation_path, 'rb') as f:\n",
    "    rid2relation = pickle.load(f)"
   ]
  },
  {
   "cell_type": "markdown",
   "id": "bdc825ef",
   "metadata": {},
   "source": [
    "Then, with rid2sids & rid2relation, we can get the relation -> sentence mapping.  \n",
    "\n",
    "The corresponding sentence can be retrieved as follows"
   ]
  },
  {
   "cell_type": "code",
   "execution_count": 54,
   "id": "a6f9e6e8",
   "metadata": {},
   "outputs": [
    {
     "name": "stdout",
     "output_type": "stream",
     "text": [
      "[rid]: 72a6534ca89e2b548ab406af58b0c43a959973ac\n",
      "[relations]: {'hid': '95f20fc56205d5cffd6448ccf5fbd5667c7c170d',\n",
      " 'relations': {'Conjunction': 3.0},\n",
      " 'rid': '72a6534ca89e2b548ab406af58b0c43a959973ac',\n",
      " 'tid': '2560e1c9b1855043cfaa7d3eaac70a4285517e7a'}\n",
      "[sids]: [('subtitles/parsed_para/subtitles_990260.jsonl|210314', 'subtitles/parsed_para/subtitles_990260.jsonl|210315'), ('subtitles/parsed_para/subtitles_990260.jsonl|210334', 'subtitles/parsed_para/subtitles_990260.jsonl|210335'), ('subtitles/parsed_para/subtitles_990260.jsonl|210357', 'subtitles/parsed_para/subtitles_990260.jsonl|210358')]\n",
      "[SID-pair]: ('subtitles/parsed_para/subtitles_990260.jsonl|210314', 'subtitles/parsed_para/subtitles_990260.jsonl|210315')\n",
      "\t[head]: Can I touch you?\n",
      "\t[tail]: And do the things that lovers do?\n",
      "[SID-pair]: ('subtitles/parsed_para/subtitles_990260.jsonl|210334', 'subtitles/parsed_para/subtitles_990260.jsonl|210335')\n",
      "\t[head]: Can I touch you?\n",
      "\t[tail]: And do the things that lovers do?\n",
      "[SID-pair]: ('subtitles/parsed_para/subtitles_990260.jsonl|210357', 'subtitles/parsed_para/subtitles_990260.jsonl|210358')\n",
      "\t[head]: Can I touch you?\n",
      "\t[tail]: And do the things that lovers do?\n"
     ]
    }
   ],
   "source": [
    "rid = '72a6534ca89e2b548ab406af58b0c43a959973ac'\n",
    "\n",
    "\n",
    "print('[rid]:', rid)\n",
    "print('[relations]:', rid2relation[rid])\n",
    "\n",
    "print('[sids]:', rid2sids[rid])\n",
    "for sid_pair in rid2sids[rid]:\n",
    "    h_sid, t_sid = sid_pair\n",
    "    # note that h_sid could be the same as t_sid, in which case the relation is between the eventualities within the same sentence\n",
    "    h_sent = parsed_reader.get_parsed_sentence_and_context(os.path.join(processed_path, h_sid))['sentence']['text']\n",
    "    t_sent = parsed_reader.get_parsed_sentence_and_context(os.path.join(processed_path, t_sid))['sentence']['text']\n",
    "    print('[SID-pair]:', sid_pair)\n",
    "    print('\\t[head]:', h_sent)\n",
    "    print('\\t[tail]:', t_sent)\n"
   ]
  },
  {
   "cell_type": "markdown",
   "id": "45a4b698",
   "metadata": {},
   "source": [
    "Most sentence pairs have the same head and tail sentence, see the statistics below"
   ]
  },
  {
   "cell_type": "code",
   "execution_count": 45,
   "id": "f2838487",
   "metadata": {},
   "outputs": [
    {
     "name": "stderr",
     "output_type": "stream",
     "text": [
      "100%|██████████| 52296498/52296498 [01:25<00:00, 610439.05it/s]"
     ]
    },
    {
     "name": "stdout",
     "output_type": "stream",
     "text": [
      "same:149991894(0.92), diff: 13554304(0.08)\n"
     ]
    },
    {
     "name": "stderr",
     "output_type": "stream",
     "text": [
      "\n"
     ]
    }
   ],
   "source": [
    "same = 0\n",
    "diff = 0\n",
    "for tmp in tqdm(rid2sids):\n",
    "  for sid_pair in rid2sids[tmp]:\n",
    "    if sid_pair[0] != sid_pair[1]:\n",
    "      diff += 1\n",
    "    else:\n",
    "      same += 1\n",
    "print('same:{}({:.2f}), diff: {}({:.2f})'.format(same, same/(same+diff), diff, diff/(same+diff)))"
   ]
  },
  {
   "cell_type": "markdown",
   "id": "601feb2d",
   "metadata": {},
   "source": [
    "In this case, you might need to use the eventuality info to split the sentence  \n",
    "The ''rid2relation'' mapping contains the eventuality info corresponding to the relation\n",
    "\n",
    "The eid2eventuality mapping can be load as follows."
   ]
  },
  {
   "cell_type": "code",
   "execution_count": null,
   "id": "24b33be3",
   "metadata": {},
   "outputs": [],
   "source": [
    "eid2eventuality_path = 'eid2eventuality.pkl'\n",
    "\n",
    "with open(eid2eventuality_path, 'rb') as f:\n",
    "    eid2eventuality = pickle.load(f)"
   ]
  },
  {
   "cell_type": "code",
   "execution_count": 75,
   "id": "a9b1b6c3",
   "metadata": {},
   "outputs": [
    {
     "name": "stdout",
     "output_type": "stream",
     "text": [
      "{'eid': '95f20fc56205d5cffd6448ccf5fbd5667c7c170d', 'pattern': 's-v-o', '_dependencies': [[2, 'aux', 0], [2, 'nsubj', 1], [2, 'dobj', 3]], 'words': ['can', 'i', 'touch', 'you'], 'pos_tags': ['MD', 'PRP', 'VB', 'PRP'], '_ners': ['O', 'O', 'O', 'O'], '_mentions': {}, '_skeleton_dependency_indices': [1, 2], '_skeleton_indices': [1, 2, 3], '_verb_indices': [2], 'raw_sent_mapping': None, '_phrase_segment_indices': [(0, 1), (1, 2), (2, 3), (3, 4)], 'frequency': 197.0}\n"
     ]
    }
   ],
   "source": [
    "rid = '72a6534ca89e2b548ab406af58b0c43a959973ac'\n",
    "mapping = rid2relation[rid].to_dict()\n",
    "h_eid, t_eid = mapping['hid'], mapping['tid']\n",
    "\n",
    "print(eid2eventuality[h_eid].to_dict())"
   ]
  }
 ],
 "metadata": {
  "kernelspec": {
   "display_name": "Python 3 (ipykernel)",
   "language": "python",
   "name": "python3"
  },
  "language_info": {
   "codemirror_mode": {
    "name": "ipython",
    "version": 3
   },
   "file_extension": ".py",
   "mimetype": "text/x-python",
   "name": "python",
   "nbconvert_exporter": "python",
   "pygments_lexer": "ipython3",
   "version": "3.9.7"
  }
 },
 "nbformat": 4,
 "nbformat_minor": 5
}
